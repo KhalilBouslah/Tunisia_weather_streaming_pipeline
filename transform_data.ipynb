{
 "cells": [
  {
   "cell_type": "code",
   "execution_count": null,
   "metadata": {},
   "outputs": [],
   "source": [
    "import pandas as pd\n",
    "from datetime import datetime"
   ]
  },
  {
   "cell_type": "code",
   "execution_count": 16,
   "metadata": {},
   "outputs": [],
   "source": [
    "df=pd.read_csv('~/vs_workspace/Spark_project/tunisia_weather.csv')"
   ]
  },
  {
   "cell_type": "code",
   "execution_count": 17,
   "metadata": {},
   "outputs": [
    {
     "data": {
      "text/plain": [
       "id                0\n",
       "city_name         1\n",
       "humidity          0\n",
       "latitude          0\n",
       "longtitude        0\n",
       "sunset_time       0\n",
       "surnise_time      0\n",
       "temperature       0\n",
       "time_of_record    0\n",
       "wind_speed        0\n",
       "dtype: int64"
      ]
     },
     "execution_count": 17,
     "metadata": {},
     "output_type": "execute_result"
    }
   ],
   "source": [
    "df.isna().sum()"
   ]
  },
  {
   "cell_type": "code",
   "execution_count": 18,
   "metadata": {},
   "outputs": [
    {
     "data": {
      "text/plain": [
       "(363, 10)"
      ]
     },
     "execution_count": 18,
     "metadata": {},
     "output_type": "execute_result"
    }
   ],
   "source": [
    "df.shape"
   ]
  },
  {
   "cell_type": "code",
   "execution_count": 19,
   "metadata": {},
   "outputs": [],
   "source": [
    "df.dropna(inplace=True)"
   ]
  },
  {
   "cell_type": "code",
   "execution_count": 20,
   "metadata": {},
   "outputs": [
    {
     "data": {
      "text/html": [
       "<div>\n",
       "<style scoped>\n",
       "    .dataframe tbody tr th:only-of-type {\n",
       "        vertical-align: middle;\n",
       "    }\n",
       "\n",
       "    .dataframe tbody tr th {\n",
       "        vertical-align: top;\n",
       "    }\n",
       "\n",
       "    .dataframe thead th {\n",
       "        text-align: right;\n",
       "    }\n",
       "</style>\n",
       "<table border=\"1\" class=\"dataframe\">\n",
       "  <thead>\n",
       "    <tr style=\"text-align: right;\">\n",
       "      <th></th>\n",
       "      <th>id</th>\n",
       "      <th>city_name</th>\n",
       "      <th>humidity</th>\n",
       "      <th>latitude</th>\n",
       "      <th>longtitude</th>\n",
       "      <th>sunset_time</th>\n",
       "      <th>surnise_time</th>\n",
       "      <th>temperature</th>\n",
       "      <th>time_of_record</th>\n",
       "      <th>wind_speed</th>\n",
       "    </tr>\n",
       "  </thead>\n",
       "  <tbody>\n",
       "    <tr>\n",
       "      <th>0</th>\n",
       "      <td>1736266342</td>\n",
       "      <td>Gafsa</td>\n",
       "      <td>55</td>\n",
       "      <td>34.4311</td>\n",
       "      <td>8.7757</td>\n",
       "      <td>1736267401</td>\n",
       "      <td>1736231517</td>\n",
       "      <td>15.06</td>\n",
       "      <td>1736266342</td>\n",
       "      <td>4.63</td>\n",
       "    </tr>\n",
       "    <tr>\n",
       "      <th>1</th>\n",
       "      <td>1736265533</td>\n",
       "      <td>Fernana</td>\n",
       "      <td>82</td>\n",
       "      <td>36.7422</td>\n",
       "      <td>8.6626</td>\n",
       "      <td>1736267078</td>\n",
       "      <td>1736231895</td>\n",
       "      <td>8.21</td>\n",
       "      <td>1736265533</td>\n",
       "      <td>6.04</td>\n",
       "    </tr>\n",
       "    <tr>\n",
       "      <th>2</th>\n",
       "      <td>1736267875</td>\n",
       "      <td>Gafsa</td>\n",
       "      <td>55</td>\n",
       "      <td>34.4311</td>\n",
       "      <td>8.7757</td>\n",
       "      <td>1736267401</td>\n",
       "      <td>1736231517</td>\n",
       "      <td>15.06</td>\n",
       "      <td>1736267875</td>\n",
       "      <td>4.63</td>\n",
       "    </tr>\n",
       "    <tr>\n",
       "      <th>3</th>\n",
       "      <td>1736265655</td>\n",
       "      <td>Beni Kheddache</td>\n",
       "      <td>54</td>\n",
       "      <td>33.1381</td>\n",
       "      <td>10.2690</td>\n",
       "      <td>1736267230</td>\n",
       "      <td>1736230971</td>\n",
       "      <td>13.32</td>\n",
       "      <td>1736265655</td>\n",
       "      <td>6.26</td>\n",
       "    </tr>\n",
       "    <tr>\n",
       "      <th>4</th>\n",
       "      <td>1736267631</td>\n",
       "      <td>Ben Arous</td>\n",
       "      <td>77</td>\n",
       "      <td>36.7134</td>\n",
       "      <td>10.2096</td>\n",
       "      <td>1736266711</td>\n",
       "      <td>1736231519</td>\n",
       "      <td>14.90</td>\n",
       "      <td>1736267631</td>\n",
       "      <td>6.17</td>\n",
       "    </tr>\n",
       "  </tbody>\n",
       "</table>\n",
       "</div>"
      ],
      "text/plain": [
       "           id       city_name  humidity  latitude  longtitude  sunset_time  \\\n",
       "0  1736266342           Gafsa        55   34.4311      8.7757   1736267401   \n",
       "1  1736265533         Fernana        82   36.7422      8.6626   1736267078   \n",
       "2  1736267875           Gafsa        55   34.4311      8.7757   1736267401   \n",
       "3  1736265655  Beni Kheddache        54   33.1381     10.2690   1736267230   \n",
       "4  1736267631       Ben Arous        77   36.7134     10.2096   1736266711   \n",
       "\n",
       "   surnise_time  temperature  time_of_record  wind_speed  \n",
       "0    1736231517        15.06      1736266342        4.63  \n",
       "1    1736231895         8.21      1736265533        6.04  \n",
       "2    1736231517        15.06      1736267875        4.63  \n",
       "3    1736230971        13.32      1736265655        6.26  \n",
       "4    1736231519        14.90      1736267631        6.17  "
      ]
     },
     "execution_count": 20,
     "metadata": {},
     "output_type": "execute_result"
    }
   ],
   "source": [
    "df.head()"
   ]
  },
  {
   "cell_type": "code",
   "execution_count": 21,
   "metadata": {},
   "outputs": [
    {
     "name": "stdout",
     "output_type": "stream",
     "text": [
      "<class 'pandas.core.frame.DataFrame'>\n",
      "Index: 362 entries, 0 to 362\n",
      "Data columns (total 10 columns):\n",
      " #   Column          Non-Null Count  Dtype  \n",
      "---  ------          --------------  -----  \n",
      " 0   id              362 non-null    int64  \n",
      " 1   city_name       362 non-null    object \n",
      " 2   humidity        362 non-null    int64  \n",
      " 3   latitude        362 non-null    float64\n",
      " 4   longtitude      362 non-null    float64\n",
      " 5   sunset_time     362 non-null    int64  \n",
      " 6   surnise_time    362 non-null    int64  \n",
      " 7   temperature     362 non-null    float64\n",
      " 8   time_of_record  362 non-null    int64  \n",
      " 9   wind_speed      362 non-null    float64\n",
      "dtypes: float64(4), int64(5), object(1)\n",
      "memory usage: 31.1+ KB\n"
     ]
    }
   ],
   "source": [
    "df.info()"
   ]
  },
  {
   "cell_type": "code",
   "execution_count": 24,
   "metadata": {},
   "outputs": [],
   "source": [
    "df['date'] = df['time_of_record'].apply(lambda x: datetime.fromtimestamp(x))\n",
    "df['sunrise'] = df['surnise_time'].apply(lambda x: datetime.fromtimestamp(x))\n",
    "df['sunset'] = df['sunset_time'].apply(lambda x: datetime.fromtimestamp(x))"
   ]
  },
  {
   "cell_type": "code",
   "execution_count": 25,
   "metadata": {},
   "outputs": [
    {
     "data": {
      "text/html": [
       "<div>\n",
       "<style scoped>\n",
       "    .dataframe tbody tr th:only-of-type {\n",
       "        vertical-align: middle;\n",
       "    }\n",
       "\n",
       "    .dataframe tbody tr th {\n",
       "        vertical-align: top;\n",
       "    }\n",
       "\n",
       "    .dataframe thead th {\n",
       "        text-align: right;\n",
       "    }\n",
       "</style>\n",
       "<table border=\"1\" class=\"dataframe\">\n",
       "  <thead>\n",
       "    <tr style=\"text-align: right;\">\n",
       "      <th></th>\n",
       "      <th>id</th>\n",
       "      <th>city_name</th>\n",
       "      <th>humidity</th>\n",
       "      <th>latitude</th>\n",
       "      <th>longtitude</th>\n",
       "      <th>sunset_time</th>\n",
       "      <th>surnise_time</th>\n",
       "      <th>temperature</th>\n",
       "      <th>time_of_record</th>\n",
       "      <th>wind_speed</th>\n",
       "      <th>date</th>\n",
       "      <th>sunrise</th>\n",
       "      <th>sunset</th>\n",
       "    </tr>\n",
       "  </thead>\n",
       "  <tbody>\n",
       "    <tr>\n",
       "      <th>0</th>\n",
       "      <td>1736266342</td>\n",
       "      <td>Gafsa</td>\n",
       "      <td>55</td>\n",
       "      <td>34.4311</td>\n",
       "      <td>8.7757</td>\n",
       "      <td>1736267401</td>\n",
       "      <td>1736231517</td>\n",
       "      <td>15.06</td>\n",
       "      <td>1736266342</td>\n",
       "      <td>4.63</td>\n",
       "      <td>2025-01-07 11:12:22</td>\n",
       "      <td>2025-01-07 01:31:57</td>\n",
       "      <td>2025-01-07 11:30:01</td>\n",
       "    </tr>\n",
       "    <tr>\n",
       "      <th>1</th>\n",
       "      <td>1736265533</td>\n",
       "      <td>Fernana</td>\n",
       "      <td>82</td>\n",
       "      <td>36.7422</td>\n",
       "      <td>8.6626</td>\n",
       "      <td>1736267078</td>\n",
       "      <td>1736231895</td>\n",
       "      <td>8.21</td>\n",
       "      <td>1736265533</td>\n",
       "      <td>6.04</td>\n",
       "      <td>2025-01-07 10:58:53</td>\n",
       "      <td>2025-01-07 01:38:15</td>\n",
       "      <td>2025-01-07 11:24:38</td>\n",
       "    </tr>\n",
       "    <tr>\n",
       "      <th>2</th>\n",
       "      <td>1736267875</td>\n",
       "      <td>Gafsa</td>\n",
       "      <td>55</td>\n",
       "      <td>34.4311</td>\n",
       "      <td>8.7757</td>\n",
       "      <td>1736267401</td>\n",
       "      <td>1736231517</td>\n",
       "      <td>15.06</td>\n",
       "      <td>1736267875</td>\n",
       "      <td>4.63</td>\n",
       "      <td>2025-01-07 11:37:55</td>\n",
       "      <td>2025-01-07 01:31:57</td>\n",
       "      <td>2025-01-07 11:30:01</td>\n",
       "    </tr>\n",
       "    <tr>\n",
       "      <th>3</th>\n",
       "      <td>1736265655</td>\n",
       "      <td>Beni Kheddache</td>\n",
       "      <td>54</td>\n",
       "      <td>33.1381</td>\n",
       "      <td>10.2690</td>\n",
       "      <td>1736267230</td>\n",
       "      <td>1736230971</td>\n",
       "      <td>13.32</td>\n",
       "      <td>1736265655</td>\n",
       "      <td>6.26</td>\n",
       "      <td>2025-01-07 11:00:55</td>\n",
       "      <td>2025-01-07 01:22:51</td>\n",
       "      <td>2025-01-07 11:27:10</td>\n",
       "    </tr>\n",
       "    <tr>\n",
       "      <th>4</th>\n",
       "      <td>1736267631</td>\n",
       "      <td>Ben Arous</td>\n",
       "      <td>77</td>\n",
       "      <td>36.7134</td>\n",
       "      <td>10.2096</td>\n",
       "      <td>1736266711</td>\n",
       "      <td>1736231519</td>\n",
       "      <td>14.90</td>\n",
       "      <td>1736267631</td>\n",
       "      <td>6.17</td>\n",
       "      <td>2025-01-07 11:33:51</td>\n",
       "      <td>2025-01-07 01:31:59</td>\n",
       "      <td>2025-01-07 11:18:31</td>\n",
       "    </tr>\n",
       "    <tr>\n",
       "      <th>5</th>\n",
       "      <td>1736265519</td>\n",
       "      <td>Bab El Jazira</td>\n",
       "      <td>67</td>\n",
       "      <td>36.8065</td>\n",
       "      <td>10.1815</td>\n",
       "      <td>1736266703</td>\n",
       "      <td>1736231540</td>\n",
       "      <td>15.99</td>\n",
       "      <td>1736265519</td>\n",
       "      <td>7.72</td>\n",
       "      <td>2025-01-07 10:58:39</td>\n",
       "      <td>2025-01-07 01:32:20</td>\n",
       "      <td>2025-01-07 11:18:23</td>\n",
       "    </tr>\n",
       "    <tr>\n",
       "      <th>6</th>\n",
       "      <td>1736268048</td>\n",
       "      <td>Metlaoui</td>\n",
       "      <td>49</td>\n",
       "      <td>34.2744</td>\n",
       "      <td>8.4459</td>\n",
       "      <td>1736267504</td>\n",
       "      <td>1736231573</td>\n",
       "      <td>14.11</td>\n",
       "      <td>1736268048</td>\n",
       "      <td>2.86</td>\n",
       "      <td>2025-01-07 11:40:48</td>\n",
       "      <td>2025-01-07 01:32:53</td>\n",
       "      <td>2025-01-07 11:31:44</td>\n",
       "    </tr>\n",
       "    <tr>\n",
       "      <th>7</th>\n",
       "      <td>1736265442</td>\n",
       "      <td>Fernana</td>\n",
       "      <td>82</td>\n",
       "      <td>36.7422</td>\n",
       "      <td>8.6626</td>\n",
       "      <td>1736267078</td>\n",
       "      <td>1736231895</td>\n",
       "      <td>8.21</td>\n",
       "      <td>1736265442</td>\n",
       "      <td>6.04</td>\n",
       "      <td>2025-01-07 10:57:22</td>\n",
       "      <td>2025-01-07 01:38:15</td>\n",
       "      <td>2025-01-07 11:24:38</td>\n",
       "    </tr>\n",
       "    <tr>\n",
       "      <th>8</th>\n",
       "      <td>1736265594</td>\n",
       "      <td>Kairouan</td>\n",
       "      <td>34</td>\n",
       "      <td>35.7976</td>\n",
       "      <td>10.1260</td>\n",
       "      <td>1736266872</td>\n",
       "      <td>1736231397</td>\n",
       "      <td>19.24</td>\n",
       "      <td>1736265594</td>\n",
       "      <td>3.09</td>\n",
       "      <td>2025-01-07 10:59:54</td>\n",
       "      <td>2025-01-07 01:29:57</td>\n",
       "      <td>2025-01-07 11:21:12</td>\n",
       "    </tr>\n",
       "    <tr>\n",
       "      <th>9</th>\n",
       "      <td>1736268071</td>\n",
       "      <td>Kairouan</td>\n",
       "      <td>42</td>\n",
       "      <td>35.7976</td>\n",
       "      <td>10.1260</td>\n",
       "      <td>1736266872</td>\n",
       "      <td>1736231397</td>\n",
       "      <td>18.24</td>\n",
       "      <td>1736268071</td>\n",
       "      <td>3.09</td>\n",
       "      <td>2025-01-07 11:41:11</td>\n",
       "      <td>2025-01-07 01:29:57</td>\n",
       "      <td>2025-01-07 11:21:12</td>\n",
       "    </tr>\n",
       "  </tbody>\n",
       "</table>\n",
       "</div>"
      ],
      "text/plain": [
       "           id       city_name  humidity  latitude  longtitude  sunset_time  \\\n",
       "0  1736266342           Gafsa        55   34.4311      8.7757   1736267401   \n",
       "1  1736265533         Fernana        82   36.7422      8.6626   1736267078   \n",
       "2  1736267875           Gafsa        55   34.4311      8.7757   1736267401   \n",
       "3  1736265655  Beni Kheddache        54   33.1381     10.2690   1736267230   \n",
       "4  1736267631       Ben Arous        77   36.7134     10.2096   1736266711   \n",
       "5  1736265519   Bab El Jazira        67   36.8065     10.1815   1736266703   \n",
       "6  1736268048        Metlaoui        49   34.2744      8.4459   1736267504   \n",
       "7  1736265442         Fernana        82   36.7422      8.6626   1736267078   \n",
       "8  1736265594        Kairouan        34   35.7976     10.1260   1736266872   \n",
       "9  1736268071        Kairouan        42   35.7976     10.1260   1736266872   \n",
       "\n",
       "   surnise_time  temperature  time_of_record  wind_speed                date  \\\n",
       "0    1736231517        15.06      1736266342        4.63 2025-01-07 11:12:22   \n",
       "1    1736231895         8.21      1736265533        6.04 2025-01-07 10:58:53   \n",
       "2    1736231517        15.06      1736267875        4.63 2025-01-07 11:37:55   \n",
       "3    1736230971        13.32      1736265655        6.26 2025-01-07 11:00:55   \n",
       "4    1736231519        14.90      1736267631        6.17 2025-01-07 11:33:51   \n",
       "5    1736231540        15.99      1736265519        7.72 2025-01-07 10:58:39   \n",
       "6    1736231573        14.11      1736268048        2.86 2025-01-07 11:40:48   \n",
       "7    1736231895         8.21      1736265442        6.04 2025-01-07 10:57:22   \n",
       "8    1736231397        19.24      1736265594        3.09 2025-01-07 10:59:54   \n",
       "9    1736231397        18.24      1736268071        3.09 2025-01-07 11:41:11   \n",
       "\n",
       "              sunrise              sunset  \n",
       "0 2025-01-07 01:31:57 2025-01-07 11:30:01  \n",
       "1 2025-01-07 01:38:15 2025-01-07 11:24:38  \n",
       "2 2025-01-07 01:31:57 2025-01-07 11:30:01  \n",
       "3 2025-01-07 01:22:51 2025-01-07 11:27:10  \n",
       "4 2025-01-07 01:31:59 2025-01-07 11:18:31  \n",
       "5 2025-01-07 01:32:20 2025-01-07 11:18:23  \n",
       "6 2025-01-07 01:32:53 2025-01-07 11:31:44  \n",
       "7 2025-01-07 01:38:15 2025-01-07 11:24:38  \n",
       "8 2025-01-07 01:29:57 2025-01-07 11:21:12  \n",
       "9 2025-01-07 01:29:57 2025-01-07 11:21:12  "
      ]
     },
     "execution_count": 25,
     "metadata": {},
     "output_type": "execute_result"
    }
   ],
   "source": [
    "df.head(10)"
   ]
  },
  {
   "cell_type": "code",
   "execution_count": 26,
   "metadata": {},
   "outputs": [
    {
     "data": {
      "text/plain": [
       "Index(['id', 'city_name', 'humidity', 'latitude', 'longtitude', 'sunset_time',\n",
       "       'surnise_time', 'temperature', 'time_of_record', 'wind_speed', 'date',\n",
       "       'sunrise', 'sunset'],\n",
       "      dtype='object')"
      ]
     },
     "execution_count": 26,
     "metadata": {},
     "output_type": "execute_result"
    }
   ],
   "source": [
    "df.columns"
   ]
  },
  {
   "cell_type": "code",
   "execution_count": 27,
   "metadata": {},
   "outputs": [],
   "source": [
    "df=df[['id', 'city_name', 'humidity', 'latitude', 'longtitude','temperature','wind_speed', 'date',\n",
    "       'sunrise', 'sunset']]"
   ]
  },
  {
   "cell_type": "code",
   "execution_count": 29,
   "metadata": {},
   "outputs": [
    {
     "data": {
      "text/plain": [
       "(362, 10)"
      ]
     },
     "execution_count": 29,
     "metadata": {},
     "output_type": "execute_result"
    }
   ],
   "source": [
    "df.shape"
   ]
  },
  {
   "cell_type": "code",
   "execution_count": 30,
   "metadata": {},
   "outputs": [],
   "source": [
    "df.to_csv('~/vs_workspace/Spark_project/clean_data.csv',encoding='utf-8')"
   ]
  },
  {
   "cell_type": "code",
   "execution_count": null,
   "metadata": {},
   "outputs": [],
   "source": []
  }
 ],
 "metadata": {
  "kernelspec": {
   "display_name": "myenv",
   "language": "python",
   "name": "python3"
  },
  "language_info": {
   "codemirror_mode": {
    "name": "ipython",
    "version": 3
   },
   "file_extension": ".py",
   "mimetype": "text/x-python",
   "name": "python",
   "nbconvert_exporter": "python",
   "pygments_lexer": "ipython3",
   "version": "3.12.7"
  }
 },
 "nbformat": 4,
 "nbformat_minor": 2
}
